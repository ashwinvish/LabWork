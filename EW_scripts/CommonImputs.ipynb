{
 "cells": [
  {
   "cell_type": "code",
   "execution_count": 8,
   "metadata": {},
   "outputs": [],
   "source": [
    "Input_76181 = [77740\n",
    "77756\n",
    "77753\n",
    "77326\n",
    "76655\n",
    "76664\n",
    "77815\n",
    "77087\n",
    "77780\n",
    "76656\n",
    "77767\n",
    "77782\n",
    "77765\n",
    "76660\n",
    "77775\n",
    "76784\n",
    "77765\n",
    "77766\n",
    "77770\n",
    "77772\n",
    "];\n",
    "\n",
    "Input_76201 = [77441\n",
    "77449\n",
    "77445\n",
    "77452\n",
    "77446\n",
    "77457\n",
    "77126\n",
    "77459\n",
    "77461\n",
    "77462\n",
    "77464\n",
    "77466\n",
    "77465\n",
    "77467\n",
    "77456\n",
    "77163\n",
    "77368\n",
    "76620\n",
    "76885\n",
    "77447\n",
    "77646\n",
    "77349\n",
    "77445\n",
    "77471\n",
    "77162\n",
    "77353];\n",
    "\n",
    "Input_76182 = [77326\n",
    "77327\n",
    "77368\n",
    "77339\n",
    "77352\n",
    "77371\n",
    "77370\n",
    "77372\n",
    "77373\n",
    "77384\n",
    "76681\n",
    "77386\n",
    "77393\n",
    "76887\n",
    "77394\n",
    "77364\n",
    "77395\n",
    "77399\n",
    "77387\n",
    "77385\n",
    "77389\n",
    "77390\n",
    "77391\n",
    "77365\n",
    "76623\n",
    "77375\n",
    "77682\n",
    "77151\n",
    "77374\n",
    "77378\n",
    "77392\n",
    "77365\n",
    "77395\n",
    "77331\n",
    "77163\n",
    "77328\n",
    "77352\n",
    "77339\n",
    "77338];\n",
    "\n",
    "\n",
    "Input_76183 = [77434\n",
    "77162\n",
    "77446\n",
    "77805\n",
    "77460\n",
    "77132\n",
    "76623\n",
    "77386\n",
    "77151\n",
    "77341\n",
    "76691\n",
    "77375\n",
    "77371\n",
    "77854\n",
    "77328\n",
    "77858\n",
    "77592\n",
    "76667\n",
    "77862\n",
    "77358\n",
    "77389\n",
    "77326\n",
    "77395\n",
    "77371\n",
    "76629\n",
    "77365\n",
    "76181\n",
    "76679\n",
    "77868\n",
    "77163\n",
    "77872\n",
    "76673\n",
    "76661\n",
    "77378];"
   ]
  },
  {
   "cell_type": "code",
   "execution_count": 46,
   "metadata": {},
   "outputs": [
    {
     "name": "stderr",
     "output_type": "stream",
     "text": [
      "\u001b[1m\u001b[31mWARNING: hist(...) and hist!(...) are deprecated. Use fit(Histogram,...) in StatsBase.jl instead.\u001b[0m\n",
      " in depwarn(::String, ::Symbol) at ./deprecated.jl:64\n",
      " in #hist!#994(::Bool, ::Function, ::Array{Int64,1}, ::Array{Int64,1}, ::FloatRange{Float64}) at ./deprecated.jl:629\n",
      " in hist(::Array{Int64,1}, ::FloatRange{Float64}) at ./deprecated.jl:644\n",
      " in hist(::Array{Int64,1}, ::Int64) at ./deprecated.jl:645\n",
      " in include_string(::String, ::String) at ./loading.jl:441\n",
      " in include_string(::Module, ::String, ::String) at /usr/people/ashwinv/.julia/v0.5/Compat/src/Compat.jl:464\n",
      " in execute_request(::ZMQ.Socket, ::IJulia.Msg) at /usr/people/ashwinv/.julia/v0.5/IJulia/src/execute_request.jl:154\n",
      " in invokelatest(::Function, ::ZMQ.Socket, ::Vararg{Any,N}) at /usr/people/ashwinv/.julia/v0.5/Compat/src/Compat.jl:475\n",
      " in eventloop(::ZMQ.Socket) at /usr/people/ashwinv/.julia/v0.5/IJulia/src/eventloop.jl:8\n",
      " in (::IJulia.##18#24)() at ./task.jl:360\n",
      "while loading In[46], in expression starting on line 2\n"
     ]
    },
    {
     "data": {
      "text/plain": [
       "119"
      ]
     },
     "execution_count": 46,
     "metadata": {},
     "output_type": "execute_result"
    }
   ],
   "source": [
    "ConcatInputs = [Input_76181;Input_76182;Input_76183; Input_76201];\n",
    "CommonInputHistogram = hist(ConcatInputs,length(ConcatInputs))[2]\n",
    "length(CommonInputHistogram)\n",
    "length(ConcatInputs)\n",
    "\n"
   ]
  },
  {
   "cell_type": "code",
   "execution_count": 67,
   "metadata": {},
   "outputs": [
    {
     "data": {
      "text/html": [
       "<script src=\"/usr/people/ashwinv/.julia/v0.5/Plots/src/backends/../../deps/plotly-latest.min.js\"></script>    <div id=\"7ff9f902-3560-49f0-97e5-51c5fc6a5936\" style=\"width:600px;height:400px;\"></div>\n",
       "    <script>\n",
       "    PLOT = document.getElementById('7ff9f902-3560-49f0-97e5-51c5fc6a5936');\n",
       "    Plotly.plot(PLOT, [{\"yaxis\":\"y\",\"y\":[1.0,1.0,1.0,1.0,1.0,1.0,1.0,1.0,1.0,1.0,1.0,1.0,1.0,1.0,1.0,1.0,1.0,1.0,1.0,1.0],\"showlegend\":true,\"name\":\"y1\",\"type\":\"scatter\",\"xaxis\":\"x\",\"colorbar\":{\"title\":\"\"},\"x\":[77740,77756,77753,77326,76655,76664,77815,77087,77780,76656,77767,77782,77765,76660,77775,76784,77765,77766,77770,77772],\"mode\":\"markers\",\"marker\":{\"symbol\":\"circle\",\"line\":{\"width\":1,\"color\":\"rgba(0, 0, 0, 1.000)\"},\"size\":8,\"color\":\"rgba(0, 154, 250, 1.000)\"}},{\"yaxis\":\"y\",\"y\":[2.0,2.0,2.0,2.0,2.0,2.0,2.0,2.0,2.0,2.0,2.0,2.0,2.0,2.0,2.0,2.0,2.0,2.0,2.0,2.0,2.0,2.0,2.0,2.0,2.0,2.0,2.0,2.0,2.0,2.0,2.0,2.0,2.0,2.0,2.0,2.0,2.0,2.0,2.0],\"showlegend\":true,\"name\":\"y2\",\"type\":\"scatter\",\"xaxis\":\"x\",\"colorbar\":{\"title\":\"\"},\"x\":[77326,77327,77368,77339,77352,77371,77370,77372,77373,77384,76681,77386,77393,76887,77394,77364,77395,77399,77387,77385,77389,77390,77391,77365,76623,77375,77682,77151,77374,77378,77392,77365,77395,77331,77163,77328,77352,77339,77338],\"mode\":\"markers\",\"marker\":{\"symbol\":\"circle\",\"line\":{\"width\":1,\"color\":\"rgba(0, 0, 0, 1.000)\"},\"size\":8,\"color\":\"rgba(227, 111, 71, 1.000)\"}},{\"yaxis\":\"y\",\"y\":[3.0,3.0,3.0,3.0,3.0,3.0,3.0,3.0,3.0,3.0,3.0,3.0,3.0,3.0,3.0,3.0,3.0,3.0,3.0,3.0,3.0,3.0,3.0,3.0,3.0,3.0,3.0,3.0,3.0,3.0,3.0,3.0,3.0,3.0],\"showlegend\":true,\"name\":\"y3\",\"type\":\"scatter\",\"xaxis\":\"x\",\"colorbar\":{\"title\":\"\"},\"x\":[77434,77162,77446,77805,77460,77132,76623,77386,77151,77341,76691,77375,77371,77854,77328,77858,77592,76667,77862,77358,77389,77326,77395,77371,76629,77365,76181,76679,77868,77163,77872,76673,76661,77378],\"mode\":\"markers\",\"marker\":{\"symbol\":\"circle\",\"line\":{\"width\":1,\"color\":\"rgba(0, 0, 0, 1.000)\"},\"size\":8,\"color\":\"rgba(62, 164, 78, 1.000)\"}},{\"yaxis\":\"y\",\"y\":[4.0,4.0,4.0,4.0,4.0,4.0,4.0,4.0,4.0,4.0,4.0,4.0,4.0,4.0,4.0,4.0,4.0,4.0,4.0,4.0,4.0,4.0,4.0,4.0,4.0,4.0],\"showlegend\":true,\"name\":\"y4\",\"type\":\"scatter\",\"xaxis\":\"x\",\"colorbar\":{\"title\":\"\"},\"x\":[77441,77449,77445,77452,77446,77457,77126,77459,77461,77462,77464,77466,77465,77467,77456,77163,77368,76620,76885,77447,77646,77349,77445,77471,77162,77353],\"mode\":\"markers\",\"marker\":{\"symbol\":\"circle\",\"line\":{\"width\":1,\"color\":\"rgba(0, 0, 0, 1.000)\"},\"size\":8,\"color\":\"rgba(195, 113, 210, 1.000)\"}}], {\"yaxis\":{\"type\":\"-\",\"titlefont\":{\"size\":15,\"color\":\"rgba(0, 0, 0, 1.000)\",\"family\":\"sans-serif\"},\"title\":\"Output cell\",\"tickfont\":{\"size\":11,\"color\":\"rgba(0, 0, 0, 1.000)\",\"family\":\"sans-serif\"},\"ticks\":\"inside\",\"tickmode\":\"array\",\"showgrid\":true,\"tickvals\":[1.0,1.5,2.0,2.5,3.0,3.5,4.0],\"domain\":[0.07581474190726165,0.9901574803149606],\"ticktext\":[\"1.0\",\"1.5\",\"2.0\",\"2.5\",\"3.0\",\"3.5\",\"4.0\"],\"tickangle\":0,\"zeroline\":false,\"linecolor\":\"rgba(0, 0, 0, 1.000)\",\"tickcolor\":\"rgba(0, 0, 0, 1.000)\",\"anchor\":\"x\"},\"annotations\":[],\"width\":600,\"plot_bgcolor\":\"rgba(255, 255, 255, 1.000)\",\"showlegend\":true,\"legend\":{\"bgcolor\":\"rgba(255, 255, 255, 1.000)\",\"y\":1.0,\"font\":{\"size\":11,\"color\":\"rgba(0, 0, 0, 1.000)\",\"family\":\"sans-serif\"},\"bordercolor\":\"rgba(0, 0, 0, 1.000)\",\"x\":1.0},\"xaxis\":{\"type\":\"-\",\"titlefont\":{\"size\":15,\"color\":\"rgba(0, 0, 0, 1.000)\",\"family\":\"sans-serif\"},\"title\":\"Input cell ID\",\"tickfont\":{\"size\":11,\"color\":\"rgba(0, 0, 0, 1.000)\",\"family\":\"sans-serif\"},\"ticks\":\"inside\",\"tickmode\":\"array\",\"showgrid\":true,\"tickvals\":[76250.0,76500.0,76750.0,77000.0,77250.0,77500.0,77750.0],\"domain\":[0.07646908719743364,0.9934383202099737],\"ticktext\":[\"76250\",\"76500\",\"76750\",\"77000\",\"77250\",\"77500\",\"77750\"],\"tickangle\":0,\"zeroline\":false,\"linecolor\":\"rgba(0, 0, 0, 1.000)\",\"tickcolor\":\"rgba(0, 0, 0, 1.000)\",\"anchor\":\"y\"},\"paper_bgcolor\":\"rgba(255, 255, 255, 1.000)\",\"height\":400,\"margin\":{\"r\":0,\"l\":0,\"b\":20,\"t\":20}});\n",
       "    </script>\n"
      ]
     },
     "execution_count": 67,
     "metadata": {},
     "output_type": "execute_result"
    }
   ],
   "source": [
    "using Plots\n",
    "plot(Input_76181, ones(length(Input_76181),1),line=(:scatter))\n",
    "plot!(Input_76182, 2*ones(length(Input_76182),1),line=(:scatter))\n",
    "plot!(Input_76183, 3*ones(length(Input_76183),1),line=(:scatter))\n",
    "plot!(Input_76201, 4*ones(length(Input_76201),1),line=(:scatter))\n",
    "#xlims(min(ConcatInputs):5:max(ConcatInputs))\n",
    "xlabel!(\"Input cell ID\")\n",
    "ylabel!(\"Output cell\")"
   ]
  },
  {
   "cell_type": "code",
   "execution_count": 69,
   "metadata": {},
   "outputs": [
    {
     "data": {
      "text/html": [
       "<script src=\"/usr/people/ashwinv/.julia/v0.5/Plots/src/backends/../../deps/plotly-latest.min.js\"></script>    <div id=\"f18b0f9b-bcf9-45e5-ac6d-18e9fff0716f\" style=\"width:600px;height:400px;\"></div>\n",
       "    <script>\n",
       "    PLOT = document.getElementById('f18b0f9b-bcf9-45e5-ac6d-18e9fff0716f');\n",
       "    Plotly.plot(PLOT, [{\"yaxis\":\"y\",\"y\":[1.0,0.0,0.0,0.0,0.0,0.0,0.0,0.0,0.0,0.0,0.0,0.0,0.0,0.0,0.0,0.0,0.0,0.0,0.0,0.0,0.0,0.0,4.0,2.0,6.0,2.0,0.0,0.0,0.0,0.0,1.0,0.0,0.0,0.0,0.0,2.0,0.0,0.0,0.0,0.0,0.0,0.0,0.0,0.0,0.0,1.0,0.0,2.0,2.0,5.0,0.0,0.0,0.0,0.0,0.0,0.0,0.0,10.0,6.0,17.0,16.0,0.0,1.0,11.0,8.0,0.0,0.0,0.0,0.0,0.0,1.0,0.0,0.0,1.0,0.0,1.0,0.0,0.0,3.0,7.0,2.0,2.0,0.0,2.0,3.0],\"showlegend\":true,\"name\":\"y1\",\"type\":\"bar\",\"xaxis\":\"x\",\"orientation\":\"v\",\"colorbar\":{\"title\":\"\"},\"x\":[76190.0,76210.0,76230.0,76250.0,76270.0,76290.0,76310.0,76330.0,76350.0,76370.0,76390.0,76410.0,76430.0,76450.0,76470.0,76490.0,76510.0,76530.0,76550.0,76570.0,76590.0,76610.0,76630.0,76650.0,76670.0,76690.0,76710.0,76730.0,76750.0,76770.0,76790.0,76810.0,76830.0,76850.0,76870.0,76890.0,76910.0,76930.0,76950.0,76970.0,76990.0,77010.0,77030.0,77050.0,77070.0,77090.0,77110.0,77130.0,77150.0,77170.0,77190.0,77210.0,77230.0,77250.0,77270.0,77290.0,77310.0,77330.0,77350.0,77370.0,77390.0,77410.0,77430.0,77450.0,77470.0,77490.0,77510.0,77530.0,77550.0,77570.0,77590.0,77610.0,77630.0,77650.0,77670.0,77690.0,77710.0,77730.0,77750.0,77770.0,77790.0,77810.0,77830.0,77850.0,77870.0],\"marker\":{\"color\":\"rgba(0, 154, 250, 1.000)\"}}], {\"yaxis\":{\"type\":\"-\",\"titlefont\":{\"size\":15,\"color\":\"rgba(0, 0, 0, 1.000)\",\"family\":\"sans-serif\"},\"title\":\"\",\"tickfont\":{\"size\":11,\"color\":\"rgba(0, 0, 0, 1.000)\",\"family\":\"sans-serif\"},\"ticks\":\"inside\",\"tickmode\":\"array\",\"showgrid\":true,\"tickvals\":[0.0,2.5,5.0,7.5,10.0,12.5,15.0],\"domain\":[0.03762029746281716,0.9901574803149606],\"ticktext\":[\"0.0\",\"2.5\",\"5.0\",\"7.5\",\"10.0\",\"12.5\",\"15.0\"],\"tickangle\":0,\"zeroline\":false,\"linecolor\":\"rgba(0, 0, 0, 1.000)\",\"tickcolor\":\"rgba(0, 0, 0, 1.000)\",\"anchor\":\"x\"},\"annotations\":[],\"width\":600,\"plot_bgcolor\":\"rgba(255, 255, 255, 1.000)\",\"showlegend\":true,\"legend\":{\"bgcolor\":\"rgba(255, 255, 255, 1.000)\",\"y\":1.0,\"font\":{\"size\":11,\"color\":\"rgba(0, 0, 0, 1.000)\",\"family\":\"sans-serif\"},\"bordercolor\":\"rgba(0, 0, 0, 1.000)\",\"x\":1.0},\"xaxis\":{\"type\":\"-\",\"titlefont\":{\"size\":15,\"color\":\"rgba(0, 0, 0, 1.000)\",\"family\":\"sans-serif\"},\"title\":\"\",\"tickfont\":{\"size\":11,\"color\":\"rgba(0, 0, 0, 1.000)\",\"family\":\"sans-serif\"},\"ticks\":\"inside\",\"tickmode\":\"array\",\"showgrid\":true,\"tickvals\":[76250.0,76500.0,76750.0,77000.0,77250.0,77500.0,77750.0],\"domain\":[0.0658209390492855,0.9934383202099738],\"ticktext\":[\"76250\",\"76500\",\"76750\",\"77000\",\"77250\",\"77500\",\"77750\"],\"tickangle\":0,\"zeroline\":false,\"linecolor\":\"rgba(0, 0, 0, 1.000)\",\"tickcolor\":\"rgba(0, 0, 0, 1.000)\",\"anchor\":\"y\"},\"paper_bgcolor\":\"rgba(255, 255, 255, 1.000)\",\"height\":400,\"margin\":{\"r\":0,\"l\":0,\"b\":20,\"t\":20}});\n",
       "    </script>\n"
      ]
     },
     "execution_count": 69,
     "metadata": {},
     "output_type": "execute_result"
    }
   ],
   "source": [
    "histogram(ConcatInputs, nbins = length(ConcatInputs))"
   ]
  }
 ],
 "metadata": {
  "kernelspec": {
   "display_name": "Julia 0.5.0",
   "language": "julia",
   "name": "julia-0.5"
  },
  "language_info": {
   "file_extension": ".jl",
   "mimetype": "application/julia",
   "name": "julia",
   "version": "0.5.0"
  }
 },
 "nbformat": 4,
 "nbformat_minor": 2
}
