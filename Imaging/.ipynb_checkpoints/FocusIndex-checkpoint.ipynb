{
 "cells": [
  {
   "cell_type": "code",
   "execution_count": 3,
   "metadata": {
    "collapsed": false
   },
   "outputs": [],
   "source": [
    "# stdev that straddle the pixel resoultion\n",
    "using Images, FileIO, ImageMagick, MAT\n",
    "cd(\"/Users/admin/Documents/Lab/FocTest/1024_728_05_BCadjusted\")\n"
   ]
  },
  {
   "cell_type": "code",
   "execution_count": 2,
   "metadata": {
    "collapsed": false
   },
   "outputs": [
    {
     "ename": "LoadError",
     "evalue": "UndefVarError: TestImage1 not defined",
     "output_type": "error",
     "traceback": [
      "UndefVarError: TestImage1 not defined",
      "",
      " in include_string(::String, ::String) at ./loading.jl:441",
      " in include_string(::String, ::String) at /Applications/Julia-0.5.app/Contents/Resources/julia/lib/julia/sys.dylib:?"
     ]
    }
   ],
   "source": [
    "imageInfo = magickinfo(TestImage1.tif)\n",
    "#CurrentParameters = matopen(\"currentParamaters.mat\")\n",
    "#workingDistanceRange = matopen(\" workingDistanceRange.mat\")\n",
    "imageInfo"
   ]
  },
  {
   "cell_type": "code",
   "execution_count": null,
   "metadata": {
    "collapsed": false
   },
   "outputs": [],
   "source": [
    "\n",
    "\n",
    "\n",
    "numImages = 17\n",
    "\n",
    "std1 = 6; # upper limit, gaussian with stdev in pixels\n",
    "std2 = 3; # lower limit, gaussian with stdev in pixels\n",
    "\n",
    "alpha1 = (N-1)/(2*std1)\n",
    "alpha2 = (N-1)/(2*std2)\n",
    "\n",
    "\n",
    "for i = 1:numImages\n",
    "filename = sprintf(\"TestImage#d.tif\",i())\n",
    "im1 =  imread(filename)\n",
    "A = imgaussfilt[im1,alpha1]\n",
    "B = imgaussfilt[im1,alpha2]\n",
    "rootMean[i()] =  sum(rms[A-B])/size(A,1)\n",
    "clear im1\n",
    "clear A\n",
    "clear B\n",
    "end\n",
    "\n",
    "\n",
    "#pol = polyfit(workingRange,rootMean,3); # atleast 5 variables, Energy, DwellTime, Beam current, Stigmations x,y\n",
    "#x1= linspace(minimum(workingRange)*1000,maximum(workingRange)*1000,10)\n",
    "#y1 = polyval(pol,x1)\n",
    "\n",
    "#figure()\n",
    "#clear p\n",
    "\n",
    "#p[1,1] =  gramm[\"x',[workingRange*1000,x1], 'y',[rootMean,y1], 'color',[ones(size(workingRange,2),1)',2*ones(size(x1,2),1)\"]]\n",
    "#p[1,1].geom_point[]\n",
    "#p[1,1].geom_line[]\n",
    "#p[1,1].set_names[\"x','WorkingDistance','y','Focus Index\"]\n",
    "\n",
    "#[m,n] = maximum(rootMean)\n",
    "\n",
    "#p[1,2] = gramm[\"x',[1:numImages,n,9]', 'y', [workingRange*1000,currentWorkingDistance*1000,workingRange[9]*1000]\", ...\n",
    "#    \"color\",[ones(size(1:numImages,2),1);2;3]]\n",
    "#p[1,2].geom_point[]\n",
    "#p[1,2].set_names[\"x','Image Number','y','Working distance\"]\n",
    "\n",
    "#p.draw[]"
   ]
  },
  {
   "cell_type": "code",
   "execution_count": null,
   "metadata": {
    "collapsed": true
   },
   "outputs": [],
   "source": []
  }
 ],
 "metadata": {
  "anaconda-cloud": {},
  "kernelspec": {
   "display_name": "Julia 0.5.0",
   "language": "julia",
   "name": "julia-0.5"
  },
  "language_info": {
   "file_extension": ".jl",
   "mimetype": "application/julia",
   "name": "julia",
   "version": "0.5.0"
  }
 },
 "nbformat": 4,
 "nbformat_minor": 2
}
