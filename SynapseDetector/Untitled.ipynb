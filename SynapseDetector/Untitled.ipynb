{
 "cells": [
  {
   "cell_type": "code",
   "execution_count": 3,
   "metadata": {},
   "outputs": [
    {
     "name": "stderr",
     "output_type": "stream",
     "text": [
      "\u001b[1m\u001b[34mINFO: Precompiling module CSV.\n",
      "\u001b[0m\u001b[1m\u001b[31mWARNING: Module Compat with uuid 1739339897459264 is missing from the cache.\n",
      "This may mean module Compat does not support precompilation but is imported by a module that does.\u001b[0m\n",
      "\u001b[1m\u001b[31mERROR: LoadError: Declaring __precompile__(false) is not allowed in files that are being precompiled.\n",
      " in require(::Symbol) at ./loading.jl:385\n",
      " in include_from_node1(::String) at ./loading.jl:488\n",
      " in macro expansion; at ./none:2 [inlined]\n",
      " in anonymous at ./<missing>:?\n",
      " in eval(::Module, ::Any) at ./boot.jl:234\n",
      " in process_options(::Base.JLOptions) at ./client.jl:239\n",
      " in _start() at ./client.jl:318\n",
      "while loading /usr/people/ashwinv/.julia/v0.5/CSV/src/CSV.jl, in expression starting on line 4\n",
      "\u001b[0m"
     ]
    },
    {
     "ename": "LoadError",
     "evalue": "Failed to precompile CSV to /usr/people/ashwinv/.julia/lib/v0.5/CSV.ji.",
     "output_type": "error",
     "traceback": [
      "Failed to precompile CSV to /usr/people/ashwinv/.julia/lib/v0.5/CSV.ji.",
      "",
      " in compilecache(::String) at ./loading.jl:593",
      " in require(::Symbol) at ./loading.jl:422",
      " in include_string(::String, ::String) at ./loading.jl:441"
     ]
    }
   ],
   "source": [
    "using CSV\n",
    "using DataFrames\n",
    "using Query\n"
   ]
  },
  {
   "cell_type": "code",
   "execution_count": null,
   "metadata": {
    "collapsed": true
   },
   "outputs": [],
   "source": [
    "df = CSV.read(\"final.csv\")"
   ]
  }
 ],
 "metadata": {
  "kernelspec": {
   "display_name": "Julia 0.5.0",
   "language": "julia",
   "name": "julia-0.5"
  },
  "language_info": {
   "file_extension": ".jl",
   "mimetype": "application/julia",
   "name": "julia",
   "version": "0.5.0"
  }
 },
 "nbformat": 4,
 "nbformat_minor": 2
}
